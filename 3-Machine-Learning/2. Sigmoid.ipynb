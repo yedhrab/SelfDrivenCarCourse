{
 "cells": [
  {
   "cell_type": "markdown",
   "metadata": {},
   "source": [
    "Ana denklem\n",
    "\n",
    "y = w1.x1 + w2.x2 + b.1\n",
    "* x: İnput\n",
    "* w: Weight\n",
    "* b: Bias\n",
    "* y: Output\n"
   ]
  },
  {
   "cell_type": "markdown",
   "metadata": {},
   "source": [
    "Gerekli kütüphaneleri ekleme"
   ]
  },
  {
   "cell_type": "code",
   "execution_count": 1,
   "metadata": {},
   "outputs": [],
   "source": [
    "import numpy as np\n",
    "import matplotlib.pyplot as plt"
   ]
  },
  {
   "cell_type": "markdown",
   "metadata": {},
   "source": [
    "Ana denklem doğrusunu çizen fonksiyon"
   ]
  },
  {
   "cell_type": "code",
   "execution_count": 15,
   "metadata": {},
   "outputs": [],
   "source": [
    "def ciz(x1, x2):\n",
    "    cizgi = plt.plot(x1, x2)"
   ]
  },
  {
   "cell_type": "markdown",
   "metadata": {},
   "source": [
    "Sigmoid hata değerinin hesaplanması"
   ]
  },
  {
   "cell_type": "code",
   "execution_count": 21,
   "metadata": {},
   "outputs": [],
   "source": [
    "def sigmoid(skor):\n",
    "    return 1 / (1 + np.exp(-skor))"
   ]
  },
  {
   "cell_type": "markdown",
   "metadata": {},
   "source": [
    "Değişkenler matriksinin oluşturulması\n",
    "\n",
    "y1 = | x1, x2, 1 |"
   ]
  },
  {
   "cell_type": "code",
   "execution_count": 11,
   "metadata": {},
   "outputs": [],
   "source": [
    "# Nokta sayısı tanımlama\n",
    "n_nokta = 7\n",
    "\n",
    "# Noktarları oluşturma\n",
    "\n",
    "# Her defasında aynı rastgele değerlerin atanamasını sağlar. \n",
    "# İnceleme işlemi için aynı değerler lazım\n",
    "np.random.seed(0)\n",
    "\n",
    "# x1 için dikey ters parabol oluşturma\n",
    "rx1_ust = np.random.normal(10, 2, n_nokta)\n",
    "rx1_alt = np.random.normal(5, 2, n_nokta)\n",
    "\n",
    "# x2 için yatay ters parabol oluşturma\n",
    "rx2_ust = np.random.normal(12, 2, n_nokta)\n",
    "rx2_alt = np.random.normal(6, 2, n_nokta)\n",
    "\n",
    "# Sabit değerin katsayısını oluşturma\n",
    "bias = np.ones(n_nokta)\n",
    "\n",
    "# İlk satır x, ikinci satır y verisi olur ([x,x], [y,y]). Matrix işlemleri yapmak için bize \n",
    "# ([x,y], [x, y]) tipinde veri lazım bu sebeple transpozunu alıyoruz.\n",
    "ust_bolge = np.array([rx1_ust, rx2_ust, bias]).T\n",
    "alt_bolge = np.array([rx1_alt, rx2_alt, bias]).T\n",
    "\n",
    "# Vektorel olarak ekleme işlemi\n",
    "y1 = np.vstack((ust_bolge, alt_bolge))"
   ]
  },
  {
   "cell_type": "markdown",
   "metadata": {},
   "source": [
    "Katsayılar matriksinin oluşturulması\n",
    "\n",
    "y2 = |w1| |w2| |b |"
   ]
  },
  {
   "cell_type": "code",
   "execution_count": 4,
   "metadata": {},
   "outputs": [],
   "source": [
    "# Başlangıç değerleri (rastgeledir)\n",
    "w1 = -0.2\n",
    "w2 = -0.35\n",
    "b = 3\n",
    "\n",
    "# Matrix çarpımı yapmak için x1, x2, ve sabit verilerinin katsayıları\n",
    "# Transpozunu almalıyız çünkü yatay veri ile dikey veri çarpılır\n",
    "y2 = np.matrix([w1, w2, b]).T\n",
    "\n",
    "# Çizginin başlangıç ve bitiş noktaları\n",
    "\n",
    "# Sağ alt köşenin bulunması\n",
    "p1 = np.array([alt_bolge[:, 0].min(), ust_bolge[:, 0].max()])\n",
    "# Denklemde yer değiştirerek ikinci noktanın bulunması\n",
    "p2 = - b / w2 + p1 * (-w1 / w2)"
   ]
  },
  {
   "cell_type": "markdown",
   "metadata": {},
   "source": [
    "Ana denklemi matriks çarpımı ile bulma\n",
    "\n",
    "y = y1 * y2"
   ]
  },
  {
   "cell_type": "code",
   "execution_count": 23,
   "metadata": {},
   "outputs": [
    {
     "data": {
      "text/plain": [
       "matrix([[0.01453828],\n",
       "        [0.02676228],\n",
       "        [0.00959045],\n",
       "        [0.01884013],\n",
       "        [0.01527461],\n",
       "        [0.09874728],\n",
       "        [0.14271234],\n",
       "        [0.37824826],\n",
       "        [0.33988252],\n",
       "        [0.5634747 ],\n",
       "        [0.14849606],\n",
       "        [0.58330279],\n",
       "        [0.39258813],\n",
       "        [0.49558979]])"
      ]
     },
     "execution_count": 23,
     "metadata": {},
     "output_type": "execute_result"
    }
   ],
   "source": [
    "# Çizginin sağında kalanlar negatif, solunda kalanlar pozitiftir\n",
    "y = y1 * y2\n",
    "\n",
    "# Hata fonksiyonu ile olasılığı hesaplama\n",
    "olasiliklar = sigmoid(y)\n",
    "olasiliklar"
   ]
  },
  {
   "cell_type": "markdown",
   "metadata": {},
   "source": [
    "Koordinat sistemine noktaların eklenmesi ve sistemin ekrana çizilmesi"
   ]
  },
  {
   "cell_type": "code",
   "execution_count": 13,
   "metadata": {},
   "outputs": [
    {
     "data": {
      "image/png": "[encoded data removed]",
      "text/plain": [
       "<Figure size 288x288 with 1 Axes>"
      ]
     },
     "metadata": {
      "needs_background": "light"
     },
     "output_type": "display_data"
    }
   ],
   "source": [
    "# Koordinat sistemi parçası oluşturma\n",
    "# figsize (keyword): x,y uzunlukları\n",
    "_, ax = plt.subplots(figsize=(4, 4))\n",
    "\n",
    "# 0. ve 1. sütundaki her (:) satırı alma ve bu verileri koordinat sisteminde gösterme\n",
    "ax.scatter(ust_bolge[:, 0], ust_bolge[:, 1], color='r')\n",
    "ax.scatter(alt_bolge[:, 0], alt_bolge[:, 1], color='b')\n",
    "ciz(p1, p2)\n",
    "# Koordinat sistemini gösterme\n",
    "plt.show()"
   ]
  },
  {
   "cell_type": "code",
   "execution_count": null,
   "metadata": {},
   "outputs": [],
   "source": []
  },
  {
   "cell_type": "code",
   "execution_count": null,
   "metadata": {},
   "outputs": [],
   "source": []
  }
 ],
 "metadata": {
  "kernelspec": {
   "display_name": "Python 3",
   "language": "python",
   "name": "python3"
  },
  "language_info": {
   "codemirror_mode": {
    "name": "ipython",
    "version": 3
   },
   "file_extension": ".py",
   "mimetype": "text/x-python",
   "name": "python",
   "nbconvert_exporter": "python",
   "pygments_lexer": "ipython3",
   "version": "3.6.6"
  }
 },
 "nbformat": 4,
 "nbformat_minor": 2
}
