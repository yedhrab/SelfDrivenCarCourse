{
 "cells": [
  {
   "cell_type": "markdown",
   "metadata": {},
   "source": [
    "Gerekli kütüphaneleri ekleme"
   ]
  },
  {
   "cell_type": "code",
   "execution_count": 1,
   "metadata": {},
   "outputs": [],
   "source": [
    "import numpy as np\n",
    "import matplotlib.pyplot as plt"
   ]
  },
  {
   "cell_type": "markdown",
   "metadata": {},
   "source": [
    "Noktaları oluşturma"
   ]
  },
  {
   "cell_type": "code",
   "execution_count": 18,
   "metadata": {},
   "outputs": [],
   "source": [
    "# Nokta sayısı tanımlama\n",
    "n_pts = 100\n",
    "\n",
    "# Noktarları oluşturma\n",
    "\n",
    "# Her defasında aynı rastgele değerlerin atanamasını sağlar. \n",
    "# İnceleme işlemi için aynı değerler lazım\n",
    "np.random.seed(0)\n",
    "\n",
    "# Dikey ters parabol oluşturma\n",
    "rx_ust = np.random.normal(10, 2, n_pts)\n",
    "# Yatay ters parabol oluşturma\n",
    "ry_ust = np.random.normal(12, 2, n_pts)\n",
    "\n",
    "# Dikey ters parabol oluşturm\n",
    "rx_alt = np.random.normal(5, 2, n_pts)\n",
    "# Yatay ters parabol oluşturma\n",
    "ry_alt = np.random.normal(6, 2, n_pts)"
   ]
  },
  {
   "cell_type": "markdown",
   "metadata": {},
   "source": [
    "Noktaların bölgelere eklenmesi"
   ]
  },
  {
   "cell_type": "code",
   "execution_count": 3,
   "metadata": {},
   "outputs": [],
   "source": [
    "# İlk satır x, ikinci satır y verisi olur ([x,x], [y,y]). Matrix işlemleri yapmak için bize \n",
    "# ([x,y], [x, y]) tipinde veri lazım bu sebeple transpozunu alıyoruz.\n",
    "ust_bolge = np.array([rx_ust, ry_ust]).T\n",
    "alt_bolge = np.array([rx_alt, ry_alt]).T"
   ]
  },
  {
   "cell_type": "markdown",
   "metadata": {},
   "source": [
    "Koordinat sistemine noktaların eklenmesi ve sistemin ekrana çizilmesi"
   ]
  },
  {
   "cell_type": "code",
   "execution_count": 17,
   "metadata": {},
   "outputs": [
    {
     "data": {
      "image/png": "[encoded data removed]",
      "text/plain": [
       "<Figure size 288x288 with 1 Axes>"
      ]
     },
     "metadata": {
      "needs_background": "light"
     },
     "output_type": "display_data"
    }
   ],
   "source": [
    "# Koordinat sistemi parçası oluşturma\n",
    "# figsize (keyword): x,y uzunlukları\n",
    "_, ax = plt.subplots(figsize=(4, 4))\n",
    "\n",
    "# 0. ve 1. sütundaki her (:) satırı alma ve bu verileri koordinat sisteminde gösterme\n",
    "ax.scatter(ust_bolge[:, 0], ust_bolge[:, 1], color='r')\n",
    "ax.scatter(alt_bolge[:, 0], alt_bolge[:, 1], color='b')\n",
    "\n",
    "# Koordinat sistemini gösterme\n",
    "plt.show()"
   ]
  },
  {
   "cell_type": "code",
   "execution_count": null,
   "metadata": {},
   "outputs": [],
   "source": []
  },
  {
   "cell_type": "code",
   "execution_count": null,
   "metadata": {},
   "outputs": [],
   "source": []
  }
 ],
 "metadata": {
  "kernelspec": {
   "display_name": "Python 3",
   "language": "python",
   "name": "python3"
  },
  "language_info": {
   "codemirror_mode": {
    "name": "ipython",
    "version": 3
   },
   "file_extension": ".py",
   "mimetype": "text/x-python",
   "name": "python",
   "nbconvert_exporter": "python",
   "pygments_lexer": "ipython3",
   "version": "3.7.0"
  }
 },
 "nbformat": 4,
 "nbformat_minor": 2
}
