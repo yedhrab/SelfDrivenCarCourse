{
 "cells": [
  {
   "cell_type": "markdown",
   "metadata": {},
   "source": [
    "Ana denklem\n",
    "\n",
    "l= w1.x1 + w2.x2 + b.1\n",
    "* x: İnput\n",
    "* w: Weight\n",
    "* b: Bias\n",
    "* l: Çizgiye göre konum\n"
   ]
  },
  {
   "cell_type": "markdown",
   "metadata": {},
   "source": [
    "Gerekli kütüphaneleri ekleme"
   ]
  },
  {
   "cell_type": "code",
   "execution_count": 1,
   "metadata": {},
   "outputs": [],
   "source": [
    "import numpy as np\n",
    "import matplotlib.pyplot as plt"
   ]
  },
  {
   "cell_type": "markdown",
   "metadata": {},
   "source": [
    "Ana denklem doğrusunu çizen fonksiyon\n",
    "* x1: İlk konum\n",
    "* x2: Son konum"
   ]
  },
  {
   "cell_type": "code",
   "execution_count": 2,
   "metadata": {},
   "outputs": [],
   "source": [
    "def ciz(x1, x2):\n",
    "    cizgi = plt.plot(x1, x2)"
   ]
  },
  {
   "cell_type": "markdown",
   "metadata": {},
   "source": [
    "Sigmoid fonksiyonu ile olasılık değerini hesaplama\n",
    "* l: Çizgiye göre konum"
   ]
  },
  {
   "cell_type": "code",
   "execution_count": 3,
   "metadata": {},
   "outputs": [],
   "source": [
    "def sigmoid(l):\n",
    "    return 1 / (1 + np.exp(-l))"
   ]
  },
  {
   "cell_type": "markdown",
   "metadata": {},
   "source": [
    "Cross Entropy yöntemi\n",
    "* w: Ağırlıklar matriksi\n",
    "* x: Girdiler (noktalar) matriksi\n",
    "* y: Çıktılar matriksi"
   ]
  },
  {
   "cell_type": "code",
   "execution_count": 10,
   "metadata": {},
   "outputs": [],
   "source": [
    "def hata_hesaplama(w, x, y):\n",
    "    # Toplam nokta sayısı (1D yaparak bulabiliriz)\n",
    "    m = y.shape[0]\n",
    "    \n",
    "    # Olasılık hesaplama (l = x * w)\n",
    "    p = sigmoid(x * w)\n",
    "    \n",
    "    # Cross Entropy formülü\n",
    "    # Matriks çarpımı olduğundan transpozunu alarak çarpılabilir hale sokuyoruz\n",
    "    return -(1/m) * (np.log(p).T * y + np.log(1-p).T * (1-y))"
   ]
  },
  {
   "cell_type": "markdown",
   "metadata": {},
   "source": [
    "Inputların matriksinin oluşturulması\n",
    "\n",
    "x = | x1, x2, 1 |"
   ]
  },
  {
   "cell_type": "code",
   "execution_count": 5,
   "metadata": {},
   "outputs": [],
   "source": [
    "# Nokta sayısı tanımlama\n",
    "n_nokta = 7\n",
    "\n",
    "# Noktarları oluşturma\n",
    "\n",
    "# Her defasında aynı rastgele değerlerin atanamasını sağlar. \n",
    "# İnceleme işlemi için aynı değerler lazım\n",
    "np.random.seed(0)\n",
    "\n",
    "# x1 için dikey ters parabol oluşturma\n",
    "rx1_ust = np.random.normal(10, 2, n_nokta)\n",
    "rx1_alt = np.random.normal(5, 2, n_nokta)\n",
    "\n",
    "# x2 için yatay ters parabol oluşturma\n",
    "rx2_ust = np.random.normal(12, 2, n_nokta)\n",
    "rx2_alt = np.random.normal(6, 2, n_nokta)\n",
    "\n",
    "# Sabit değerin katsayısını oluşturma\n",
    "bias = np.ones(n_nokta)\n",
    "\n",
    "# İlk satır x, ikinci satır y verisi olur ([x,x], [y,y]). Matrix işlemleri yapmak için bize \n",
    "# ([x,y], [x, y]) tipinde veri lazım bu sebeple transpozunu alıyoruz.\n",
    "ust_bolge = np.array([rx1_ust, rx2_ust, bias]).T\n",
    "alt_bolge = np.array([rx1_alt, rx2_alt, bias]).T\n",
    "\n",
    "# Vektorel olarak ekleme işlemi\n",
    "x = np.vstack((ust_bolge, alt_bolge))"
   ]
  },
  {
   "cell_type": "markdown",
   "metadata": {},
   "source": [
    "Katsayılar matriksinin oluşturulması\n",
    "\n",
    "w = |w1| |w2| |b |"
   ]
  },
  {
   "cell_type": "code",
   "execution_count": 6,
   "metadata": {},
   "outputs": [],
   "source": [
    "# Başlangıç değerleri (rastgeledir)\n",
    "w1 = -0.2\n",
    "w2 = -0.35\n",
    "b = 3\n",
    "\n",
    "# Matrix çarpımı yapmak için x1, x2, ve sabit verilerinin katsayıları\n",
    "# Transpozunu almalıyız çünkü yatay veri ile dikey veri çarpılır\n",
    "w = np.matrix([w1, w2, b]).T\n",
    "\n",
    "# Çizginin başlangıç ve bitiş noktaları\n",
    "\n",
    "# Sağ alt köşenin bulunması\n",
    "p1 = np.array([alt_bolge[:, 0].min(), ust_bolge[:, 0].max()])\n",
    "# Denklemde yer değiştirerek ikinci noktanın bulunması\n",
    "p2 = - b / w2 + p1 * (-w1 / w2)"
   ]
  },
  {
   "cell_type": "markdown",
   "metadata": {},
   "source": [
    "Outputları belirleme\n",
    "* İlk olarak 0'lar, ikinci olarak 1'ler ekleniyor\n",
    "* Bu verilere dikey olarak ihtiyacımız var"
   ]
  },
  {
   "cell_type": "code",
   "execution_count": 7,
   "metadata": {},
   "outputs": [],
   "source": [
    "# reshape (satır, sütun)\n",
    "y = np.array([np.zeros(n_nokta), np.ones(n_nokta)]).reshape(n_nokta * 2, 1)\n"
   ]
  },
  {
   "cell_type": "markdown",
   "metadata": {},
   "source": [
    "Koordinat sistemine noktaların eklenmesi ve sistemin ekrana çizilmesi\n",
    "* Kırmızı: 0 (false)\n",
    "* Mavi: 1 (true)"
   ]
  },
  {
   "cell_type": "code",
   "execution_count": 8,
   "metadata": {},
   "outputs": [
    {
     "data": {
      "image/png": "[encoded data removed]",
      "text/plain": [
       "<Figure size 288x288 with 1 Axes>"
      ]
     },
     "metadata": {
      "needs_background": "light"
     },
     "output_type": "display_data"
    }
   ],
   "source": [
    "# Koordinat sistemi parçası oluşturma\n",
    "# figsize (keyword): x,y uzunlukları\n",
    "_, ax = plt.subplots(figsize=(4, 4))\n",
    "\n",
    "# 0. ve 1. sütundaki her (:) satırı alma ve bu verileri koordinat sisteminde gösterme\n",
    "# Kırmızılar: 0 (false) Maviler: 1 (true)\n",
    "ax.scatter(ust_bolge[:, 0], ust_bolge[:, 1], color='r')\n",
    "ax.scatter(alt_bolge[:, 0], alt_bolge[:, 1], color='b')\n",
    "\n",
    "# Referans çizgisini çizme\n",
    "ciz(p1, p2)\n",
    "\n",
    "# Koordinat sistemini gösterme\n",
    "plt.show()"
   ]
  },
  {
   "cell_type": "code",
   "execution_count": 11,
   "metadata": {},
   "outputs": [
    {
     "data": {
      "text/plain": [
       "matrix([[0.50371511]])"
      ]
     },
     "execution_count": 11,
     "metadata": {},
     "output_type": "execute_result"
    }
   ],
   "source": [
    "hata_hesaplama(w, x, y)"
   ]
  },
  {
   "cell_type": "code",
   "execution_count": null,
   "metadata": {},
   "outputs": [],
   "source": []
  }
 ],
 "metadata": {
  "kernelspec": {
   "display_name": "Python 3",
   "language": "python",
   "name": "python3"
  },
  "language_info": {
   "codemirror_mode": {
    "name": "ipython",
    "version": 3
   },
   "file_extension": ".py",
   "mimetype": "text/x-python",
   "name": "python",
   "nbconvert_exporter": "python",
   "pygments_lexer": "ipython3",
   "version": "3.7.0"
  }
 },
 "nbformat": 4,
 "nbformat_minor": 2
}
